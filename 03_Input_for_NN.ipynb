{
 "cells": [
  {
   "cell_type": "markdown",
   "metadata": {},
   "source": [
    "# Generating Data Set for Neural Network\n",
    "\n",
    "1) After pre-processing and data augmentation, we merge data from all participants to a single data frame as training data for CNN Model.<br>\n",
    "\n",
    "2) Data from finger orientation study project (https://doi.org/10.1145/3132272.3134130) is also added to increase the dataset.<br>\n",
    "\n",
    "3) After merging data from all participants we reshape data into 27 X 15 resembling the screen size of the smarphone and re-label the data to contain only labels as 'finger' and 'phalanx' for binary classification."
   ]
  },
  {
   "cell_type": "code",
   "execution_count": 1,
   "metadata": {},
   "outputs": [],
   "source": [
    "import pandas as pd\n",
    "import numpy as np\n",
    "import time"
   ]
  },
  {
   "cell_type": "code",
   "execution_count": 3,
   "metadata": {
    "scrolled": true
   },
   "outputs": [
    {
     "name": "stdout",
     "output_type": "stream",
     "text": [
      "Number of Images for Participant 1 are 31792.\n",
      "Number of Images for Participant 2 are 42700.\n",
      "Number of Images for Participant 3 are 37532.\n",
      "Number of Images for Participant 4 are 46896.\n",
      "Number of Images for Participant 5 are 53932.\n",
      "Number of Images for Participant 6 are 66296.\n",
      "Number of Images for Participant 7 are 66832.\n",
      "Number of Images for Participant 8 are 48152.\n",
      "Number of Images for Participant 9 are 52336.\n",
      "Number of Images for Participant 10 are 47464.\n",
      "Number of Images for Participant 11 are 48232.\n",
      "Number of Images for Participant 12 are 45632.\n",
      "Number of Images for Participant 13 are 52848.\n",
      "Number of Images for Participant 14 are 48340.\n",
      "Number of Images for Participant 15 are 54680.\n",
      "Number of Images for Participant 16 are 59520.\n",
      "Number of Images for Participant 17 are 52348.\n",
      "Number of Images for Participant 18 are 51128.\n",
      "Number of Images for Participant 19 are 51988.\n",
      "Number of Images for Participant 20 are 36720.\n",
      "Number of Images for Participant 21 are 52700.\n",
      "Number of Images for Participant 22 are 48116.\n",
      "Number of Images for Participant 23 are 41400.\n",
      "Number of Images for Participant 24 are 46824.\n",
      "Number of Images for Participant 25 are 49656.\n",
      "Total number of images in training set are 1234064\n"
     ]
    }
   ],
   "source": [
    "# Merging all augmented data and storing it as training data set.\n",
    "df_train = pd.DataFrame()\n",
    "\n",
    "for i in range(1, 26):\n",
    "    df = pd.read_pickle('/home/rahul/Documents/phalanx_detection/pre_processed_aug/Participant_'+str(i)+'.pkl')\n",
    "    print('Number of Images for Participant ' + str(i)+' are '+str(df.shape[0])+'.')\n",
    "    df_train = pd.concat([df_train, df], ignore_index=True)\n",
    "\n",
    "print('Total number of images in training set are ' + str(len(df_train)))"
   ]
  },
  {
   "cell_type": "code",
   "execution_count": 4,
   "metadata": {},
   "outputs": [
    {
     "name": "stdout",
     "output_type": "stream",
     "text": [
      "Total number of images in training set including orientation data are 1764902\n"
     ]
    }
   ],
   "source": [
    "# Here we also include data set from finger orientation study project \n",
    "\n",
    "df_orientation = pd.read_pickle('/home/rahul/Documents/phalanx_detection/pre_processed_aug/orientationdata.pkl')\n",
    "df_train = pd.concat([df_train, df_orientation], ignore_index=True,sort = True)\n",
    "print('Total number of images in training set including orientation data are ' + str(len(df_train)))"
   ]
  },
  {
   "cell_type": "code",
   "execution_count": 5,
   "metadata": {},
   "outputs": [
    {
     "name": "stdout",
     "output_type": "stream",
     "text": [
      "CPU times: user 2min 18s, sys: 1.84 s, total: 2min 19s\n",
      "Wall time: 2min 17s\n"
     ]
    }
   ],
   "source": [
    "%%time\n",
    "# convert to 27x15 Matrix image\n",
    "for i in range(df_train.shape[0]):\n",
    "    full_matrix = np.zeros(shape=(27, 15))\n",
    "    cropped_matrix = df_train.Cropped_Matrix[i]\n",
    "    x,y = cropped_matrix.shape\n",
    "    full_matrix[:x, :y] = cropped_matrix\n",
    "    df_train.at[i, 'Cropped_Matrix'] = full_matrix.astype(np.int32)"
   ]
  },
  {
   "cell_type": "code",
   "execution_count": 7,
   "metadata": {},
   "outputs": [
    {
     "name": "stdout",
     "output_type": "stream",
     "text": [
      "229241 PAUSE\n",
      "245815 PAUSE\n",
      "262389 PAUSE\n",
      "278963 PAUSE\n",
      "285255 PAUSE\n",
      "301963 PAUSE\n",
      "318671 PAUSE\n",
      "335379 PAUSE\n",
      "996562 PAUSE\n",
      "1009737 PAUSE\n",
      "1022912 PAUSE\n",
      "1036087 PAUSE\n",
      "CPU times: user 56.8 s, sys: 242 ms, total: 57.1 s\n",
      "Wall time: 50 s\n"
     ]
    }
   ],
   "source": [
    "%%time\n",
    "# Deleting Images which are captured during task changing duration labelled as Pause (to avoid wrong labelling).\n",
    "for i in range(df_train.shape[0]):\n",
    "    if df_train.Task[i]== 'PAUSE':\n",
    "        print(i, df_train.Task[i])\n",
    "        df_train.drop(i, inplace=True)"
   ]
  },
  {
   "cell_type": "code",
   "execution_count": 11,
   "metadata": {},
   "outputs": [
    {
     "name": "stdout",
     "output_type": "stream",
     "text": [
      "CPU times: user 1.09 s, sys: 4.03 ms, total: 1.09 s\n",
      "Wall time: 557 ms\n"
     ]
    }
   ],
   "source": [
    "%%time\n",
    "# modify labels to finger and phalanx\n",
    "\n",
    "df_train.rename(columns={'Task': 'Label', 'Cropped_Matrix': 'Input'}, inplace=True)\n",
    "df_train['Label'] = df_train['Label'].replace({'DRAG': 'finger',\n",
    "                                               'TAP': 'finger',\n",
    "                                               'SCROLL':'finger',\n",
    "                                               'PHALANX_SCROLL': 'phalanx',\n",
    "                                               'PHALANX_TAP': 'phalanx',\n",
    "                                               'PHALANX_DRAG': 'phalanx',\n",
    "                                               })"
   ]
  },
  {
   "cell_type": "code",
   "execution_count": 13,
   "metadata": {},
   "outputs": [
    {
     "data": {
      "text/plain": [
       "finger     1073386\n",
       "phalanx     691504\n",
       "Name: Label, dtype: int64"
      ]
     },
     "execution_count": 13,
     "metadata": {},
     "output_type": "execute_result"
    }
   ],
   "source": [
    "# Number of samples for each class\n",
    "df_train['Label'].value_counts()"
   ]
  },
  {
   "cell_type": "code",
   "execution_count": 16,
   "metadata": {},
   "outputs": [],
   "source": [
    "# save training data in .pkl\n",
    "df_train.to_pickle('/home/rahul/Documents/phalanx_detection/training_data.pkl')"
   ]
  }
 ],
 "metadata": {
  "kernelspec": {
   "display_name": "Python 3",
   "language": "python",
   "name": "python3"
  },
  "language_info": {
   "codemirror_mode": {
    "name": "ipython",
    "version": 3
   },
   "file_extension": ".py",
   "mimetype": "text/x-python",
   "name": "python",
   "nbconvert_exporter": "python",
   "pygments_lexer": "ipython3",
   "version": "3.7.1"
  }
 },
 "nbformat": 4,
 "nbformat_minor": 2
}
